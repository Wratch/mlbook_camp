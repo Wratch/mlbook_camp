{
 "cells": [
  {
   "cell_type": "code",
   "execution_count": 11,
   "metadata": {
    "collapsed": true,
    "pycharm": {
     "name": "#%%\n"
    }
   },
   "outputs": [],
   "source": [
    "import pandas as pd\n",
    "import numpy as np\n",
    "import matplotlib.pyplot as plt\n",
    "import seaborn as sns\n",
    "\n",
    "%matplotlib inline"
   ]
  },
  {
   "cell_type": "code",
   "execution_count": 3,
   "outputs": [],
   "source": [
    "df = pd.read_csv('AB_NYC_2019.csv')"
   ],
   "metadata": {
    "collapsed": false,
    "pycharm": {
     "name": "#%%\n"
    }
   }
  },
  {
   "cell_type": "markdown",
   "source": [
    "# EDA"
   ],
   "metadata": {
    "collapsed": false,
    "pycharm": {
     "name": "#%% md\n"
    }
   }
  },
  {
   "cell_type": "code",
   "execution_count": 7,
   "outputs": [
    {
     "data": {
      "text/plain": "             id                                               name   host_id  \\\n0          2539                 Clean & quiet apt home by the park      2787   \n1          2595                              Skylit Midtown Castle      2845   \n2          3647                THE VILLAGE OF HARLEM....NEW YORK !      4632   \n3          3831                    Cozy Entire Floor of Brownstone      4869   \n4          5022   Entire Apt: Spacious Studio/Loft by central park      7192   \n...         ...                                                ...       ...   \n48890  36484665    Charming one bedroom - newly renovated rowhouse   8232441   \n48891  36485057      Affordable room in Bushwick/East Williamsburg   6570630   \n48892  36485431            Sunny Studio at Historical Neighborhood  23492952   \n48893  36485609               43rd St. Time Square-cozy single bed  30985759   \n48894  36487245  Trendy duplex in the very heart of Hell's Kitchen  68119814   \n\n           host_name neighbourhood_group       neighbourhood  latitude  \\\n0               John            Brooklyn          Kensington  40.64749   \n1           Jennifer           Manhattan             Midtown  40.75362   \n2          Elisabeth           Manhattan              Harlem  40.80902   \n3        LisaRoxanne            Brooklyn        Clinton Hill  40.68514   \n4              Laura           Manhattan         East Harlem  40.79851   \n...              ...                 ...                 ...       ...   \n48890        Sabrina            Brooklyn  Bedford-Stuyvesant  40.67853   \n48891        Marisol            Brooklyn            Bushwick  40.70184   \n48892  Ilgar & Aysel           Manhattan              Harlem  40.81475   \n48893            Taz           Manhattan      Hell's Kitchen  40.75751   \n48894     Christophe           Manhattan      Hell's Kitchen  40.76404   \n\n       longitude        room_type  price  minimum_nights  number_of_reviews  \\\n0      -73.97237     Private room    149               1                  9   \n1      -73.98377  Entire home/apt    225               1                 45   \n2      -73.94190     Private room    150               3                  0   \n3      -73.95976  Entire home/apt     89               1                270   \n4      -73.94399  Entire home/apt     80              10                  9   \n...          ...              ...    ...             ...                ...   \n48890  -73.94995     Private room     70               2                  0   \n48891  -73.93317     Private room     40               4                  0   \n48892  -73.94867  Entire home/apt    115              10                  0   \n48893  -73.99112      Shared room     55               1                  0   \n48894  -73.98933     Private room     90               7                  0   \n\n      last_review  reviews_per_month  calculated_host_listings_count  \\\n0      2018-10-19               0.21                               6   \n1      2019-05-21               0.38                               2   \n2             NaN                NaN                               1   \n3      2019-07-05               4.64                               1   \n4      2018-11-19               0.10                               1   \n...           ...                ...                             ...   \n48890         NaN                NaN                               2   \n48891         NaN                NaN                               2   \n48892         NaN                NaN                               1   \n48893         NaN                NaN                               6   \n48894         NaN                NaN                               1   \n\n       availability_365  \n0                   365  \n1                   355  \n2                   365  \n3                   194  \n4                     0  \n...                 ...  \n48890                 9  \n48891                36  \n48892                27  \n48893                 2  \n48894                23  \n\n[48895 rows x 16 columns]",
      "text/html": "<div>\n<style scoped>\n    .dataframe tbody tr th:only-of-type {\n        vertical-align: middle;\n    }\n\n    .dataframe tbody tr th {\n        vertical-align: top;\n    }\n\n    .dataframe thead th {\n        text-align: right;\n    }\n</style>\n<table border=\"1\" class=\"dataframe\">\n  <thead>\n    <tr style=\"text-align: right;\">\n      <th></th>\n      <th>id</th>\n      <th>name</th>\n      <th>host_id</th>\n      <th>host_name</th>\n      <th>neighbourhood_group</th>\n      <th>neighbourhood</th>\n      <th>latitude</th>\n      <th>longitude</th>\n      <th>room_type</th>\n      <th>price</th>\n      <th>minimum_nights</th>\n      <th>number_of_reviews</th>\n      <th>last_review</th>\n      <th>reviews_per_month</th>\n      <th>calculated_host_listings_count</th>\n      <th>availability_365</th>\n    </tr>\n  </thead>\n  <tbody>\n    <tr>\n      <th>0</th>\n      <td>2539</td>\n      <td>Clean &amp; quiet apt home by the park</td>\n      <td>2787</td>\n      <td>John</td>\n      <td>Brooklyn</td>\n      <td>Kensington</td>\n      <td>40.64749</td>\n      <td>-73.97237</td>\n      <td>Private room</td>\n      <td>149</td>\n      <td>1</td>\n      <td>9</td>\n      <td>2018-10-19</td>\n      <td>0.21</td>\n      <td>6</td>\n      <td>365</td>\n    </tr>\n    <tr>\n      <th>1</th>\n      <td>2595</td>\n      <td>Skylit Midtown Castle</td>\n      <td>2845</td>\n      <td>Jennifer</td>\n      <td>Manhattan</td>\n      <td>Midtown</td>\n      <td>40.75362</td>\n      <td>-73.98377</td>\n      <td>Entire home/apt</td>\n      <td>225</td>\n      <td>1</td>\n      <td>45</td>\n      <td>2019-05-21</td>\n      <td>0.38</td>\n      <td>2</td>\n      <td>355</td>\n    </tr>\n    <tr>\n      <th>2</th>\n      <td>3647</td>\n      <td>THE VILLAGE OF HARLEM....NEW YORK !</td>\n      <td>4632</td>\n      <td>Elisabeth</td>\n      <td>Manhattan</td>\n      <td>Harlem</td>\n      <td>40.80902</td>\n      <td>-73.94190</td>\n      <td>Private room</td>\n      <td>150</td>\n      <td>3</td>\n      <td>0</td>\n      <td>NaN</td>\n      <td>NaN</td>\n      <td>1</td>\n      <td>365</td>\n    </tr>\n    <tr>\n      <th>3</th>\n      <td>3831</td>\n      <td>Cozy Entire Floor of Brownstone</td>\n      <td>4869</td>\n      <td>LisaRoxanne</td>\n      <td>Brooklyn</td>\n      <td>Clinton Hill</td>\n      <td>40.68514</td>\n      <td>-73.95976</td>\n      <td>Entire home/apt</td>\n      <td>89</td>\n      <td>1</td>\n      <td>270</td>\n      <td>2019-07-05</td>\n      <td>4.64</td>\n      <td>1</td>\n      <td>194</td>\n    </tr>\n    <tr>\n      <th>4</th>\n      <td>5022</td>\n      <td>Entire Apt: Spacious Studio/Loft by central park</td>\n      <td>7192</td>\n      <td>Laura</td>\n      <td>Manhattan</td>\n      <td>East Harlem</td>\n      <td>40.79851</td>\n      <td>-73.94399</td>\n      <td>Entire home/apt</td>\n      <td>80</td>\n      <td>10</td>\n      <td>9</td>\n      <td>2018-11-19</td>\n      <td>0.10</td>\n      <td>1</td>\n      <td>0</td>\n    </tr>\n    <tr>\n      <th>...</th>\n      <td>...</td>\n      <td>...</td>\n      <td>...</td>\n      <td>...</td>\n      <td>...</td>\n      <td>...</td>\n      <td>...</td>\n      <td>...</td>\n      <td>...</td>\n      <td>...</td>\n      <td>...</td>\n      <td>...</td>\n      <td>...</td>\n      <td>...</td>\n      <td>...</td>\n      <td>...</td>\n    </tr>\n    <tr>\n      <th>48890</th>\n      <td>36484665</td>\n      <td>Charming one bedroom - newly renovated rowhouse</td>\n      <td>8232441</td>\n      <td>Sabrina</td>\n      <td>Brooklyn</td>\n      <td>Bedford-Stuyvesant</td>\n      <td>40.67853</td>\n      <td>-73.94995</td>\n      <td>Private room</td>\n      <td>70</td>\n      <td>2</td>\n      <td>0</td>\n      <td>NaN</td>\n      <td>NaN</td>\n      <td>2</td>\n      <td>9</td>\n    </tr>\n    <tr>\n      <th>48891</th>\n      <td>36485057</td>\n      <td>Affordable room in Bushwick/East Williamsburg</td>\n      <td>6570630</td>\n      <td>Marisol</td>\n      <td>Brooklyn</td>\n      <td>Bushwick</td>\n      <td>40.70184</td>\n      <td>-73.93317</td>\n      <td>Private room</td>\n      <td>40</td>\n      <td>4</td>\n      <td>0</td>\n      <td>NaN</td>\n      <td>NaN</td>\n      <td>2</td>\n      <td>36</td>\n    </tr>\n    <tr>\n      <th>48892</th>\n      <td>36485431</td>\n      <td>Sunny Studio at Historical Neighborhood</td>\n      <td>23492952</td>\n      <td>Ilgar &amp; Aysel</td>\n      <td>Manhattan</td>\n      <td>Harlem</td>\n      <td>40.81475</td>\n      <td>-73.94867</td>\n      <td>Entire home/apt</td>\n      <td>115</td>\n      <td>10</td>\n      <td>0</td>\n      <td>NaN</td>\n      <td>NaN</td>\n      <td>1</td>\n      <td>27</td>\n    </tr>\n    <tr>\n      <th>48893</th>\n      <td>36485609</td>\n      <td>43rd St. Time Square-cozy single bed</td>\n      <td>30985759</td>\n      <td>Taz</td>\n      <td>Manhattan</td>\n      <td>Hell's Kitchen</td>\n      <td>40.75751</td>\n      <td>-73.99112</td>\n      <td>Shared room</td>\n      <td>55</td>\n      <td>1</td>\n      <td>0</td>\n      <td>NaN</td>\n      <td>NaN</td>\n      <td>6</td>\n      <td>2</td>\n    </tr>\n    <tr>\n      <th>48894</th>\n      <td>36487245</td>\n      <td>Trendy duplex in the very heart of Hell's Kitchen</td>\n      <td>68119814</td>\n      <td>Christophe</td>\n      <td>Manhattan</td>\n      <td>Hell's Kitchen</td>\n      <td>40.76404</td>\n      <td>-73.98933</td>\n      <td>Private room</td>\n      <td>90</td>\n      <td>7</td>\n      <td>0</td>\n      <td>NaN</td>\n      <td>NaN</td>\n      <td>1</td>\n      <td>23</td>\n    </tr>\n  </tbody>\n</table>\n<p>48895 rows × 16 columns</p>\n</div>"
     },
     "execution_count": 7,
     "metadata": {},
     "output_type": "execute_result"
    }
   ],
   "source": [
    "df"
   ],
   "metadata": {
    "collapsed": false,
    "pycharm": {
     "name": "#%%\n"
    }
   }
  },
  {
   "cell_type": "code",
   "execution_count": 14,
   "outputs": [],
   "source": [
    "price_log = np.log1p(df.price)"
   ],
   "metadata": {
    "collapsed": false,
    "pycharm": {
     "name": "#%%\n"
    }
   }
  },
  {
   "cell_type": "code",
   "execution_count": 16,
   "outputs": [
    {
     "data": {
      "text/plain": "<AxesSubplot:xlabel='price', ylabel='Count'>"
     },
     "execution_count": 16,
     "metadata": {},
     "output_type": "execute_result"
    },
    {
     "data": {
      "text/plain": "<Figure size 432x288 with 1 Axes>",
      "image/png": "[encoded data removed]"
     },
     "metadata": {
      "needs_background": "light"
     },
     "output_type": "display_data"
    }
   ],
   "source": [
    "sns.histplot(df.price, bins=50)   # Price have a long tail"
   ],
   "metadata": {
    "collapsed": false,
    "pycharm": {
     "name": "#%%\n"
    }
   }
  },
  {
   "cell_type": "code",
   "execution_count": 15,
   "outputs": [
    {
     "data": {
      "text/plain": "<AxesSubplot:xlabel='price', ylabel='Count'>"
     },
     "execution_count": 15,
     "metadata": {},
     "output_type": "execute_result"
    },
    {
     "data": {
      "text/plain": "<Figure size 432x288 with 1 Axes>",
      "image/png": "[encoded data removed]"
     },
     "metadata": {
      "needs_background": "light"
     },
     "output_type": "display_data"
    }
   ],
   "source": [
    "sns.histplot(price_log, bins=50)    # Normal Distribution"
   ],
   "metadata": {
    "collapsed": false,
    "pycharm": {
     "name": "#%%\n"
    }
   }
  },
  {
   "cell_type": "code",
   "execution_count": 22,
   "outputs": [],
   "source": [
    "df = df.drop(columns=['id', 'name', 'host_id', 'host_name', 'neighbourhood_group',\n",
    "       'neighbourhood', 'room_type', 'last_review'])"
   ],
   "metadata": {
    "collapsed": false,
    "pycharm": {
     "name": "#%%\n"
    }
   }
  },
  {
   "cell_type": "code",
   "execution_count": 23,
   "outputs": [
    {
     "data": {
      "text/plain": "Index(['latitude', 'longitude', 'price', 'minimum_nights', 'number_of_reviews',\n       'reviews_per_month', 'calculated_host_listings_count',\n       'availability_365'],\n      dtype='object')"
     },
     "execution_count": 23,
     "metadata": {},
     "output_type": "execute_result"
    }
   ],
   "source": [
    "df.columns"
   ],
   "metadata": {
    "collapsed": false,
    "pycharm": {
     "name": "#%%\n"
    }
   }
  },
  {
   "cell_type": "code",
   "execution_count": 24,
   "outputs": [
    {
     "data": {
      "text/plain": "latitude                          float64\nlongitude                         float64\nprice                               int64\nminimum_nights                      int64\nnumber_of_reviews                   int64\nreviews_per_month                 float64\ncalculated_host_listings_count      int64\navailability_365                    int64\ndtype: object"
     },
     "execution_count": 24,
     "metadata": {},
     "output_type": "execute_result"
    }
   ],
   "source": [
    "df.dtypes"
   ],
   "metadata": {
    "collapsed": false,
    "pycharm": {
     "name": "#%%\n"
    }
   }
  },
  {
   "cell_type": "markdown",
   "source": [
    "# Question 1"
   ],
   "metadata": {
    "collapsed": false,
    "pycharm": {
     "name": "#%% md\n"
    }
   }
  },
  {
   "cell_type": "code",
   "execution_count": 27,
   "outputs": [
    {
     "data": {
      "text/plain": "latitude                              0\nlongitude                             0\nprice                                 0\nminimum_nights                        0\nnumber_of_reviews                     0\nreviews_per_month                 10052\ncalculated_host_listings_count        0\navailability_365                      0\ndtype: int64"
     },
     "execution_count": 27,
     "metadata": {},
     "output_type": "execute_result"
    }
   ],
   "source": [
    "df.isnull().sum()"
   ],
   "metadata": {
    "collapsed": false,
    "pycharm": {
     "name": "#%%\n"
    }
   }
  },
  {
   "cell_type": "markdown",
   "source": [
    "# Question 2"
   ],
   "metadata": {
    "collapsed": false,
    "pycharm": {
     "name": "#%% md\n"
    }
   }
  },
  {
   "cell_type": "code",
   "execution_count": 28,
   "outputs": [
    {
     "data": {
      "text/plain": "3.0"
     },
     "execution_count": 28,
     "metadata": {},
     "output_type": "execute_result"
    }
   ],
   "source": [
    "np.median(df['minimum_nights'])"
   ],
   "metadata": {
    "collapsed": false,
    "pycharm": {
     "name": "#%%\n"
    }
   }
  },
  {
   "cell_type": "markdown",
   "source": [
    "# Spilit the data"
   ],
   "metadata": {
    "collapsed": false,
    "pycharm": {
     "name": "#%% md\n"
    }
   }
  },
  {
   "cell_type": "code",
   "execution_count": 29,
   "outputs": [],
   "source": [
    "n = len(df)\n",
    "\n",
    "n_val = int(0.2 * n)\n",
    "n_test = int(0.2 * n)\n",
    "n_train = n - (n_val + n_test)\n",
    "\n",
    "idx = np.arange(n)\n",
    "np.random.seed(42)\n",
    "np.random.shuffle(idx)\n",
    "\n",
    "df_shuffled = df.iloc[idx]"
   ],
   "metadata": {
    "collapsed": false,
    "pycharm": {
     "name": "#%%\n"
    }
   }
  },
  {
   "cell_type": "code",
   "execution_count": 30,
   "outputs": [
    {
     "data": {
      "text/plain": "       latitude  longitude  price  minimum_nights  number_of_reviews  \\\n879    40.64354  -73.97777     89               3                 62   \n44383  40.70666  -73.90779     30              21                  0   \n15394  40.76116  -73.99016    120               2                 17   \n43230  40.70763  -74.01050    470               2                  5   \n16332  40.79658  -73.93287    199               2                 30   \n...         ...        ...    ...             ...                ...   \n11284  40.84650  -73.94319     60               1                  0   \n44732  40.73957  -74.00082     85               2                  4   \n38158  40.78318  -73.97372    130              30                  1   \n860    40.77508  -73.97990    150               2                 11   \n15795  40.74657  -73.94555    120               5                  1   \n\n       reviews_per_month  calculated_host_listings_count  availability_365  \n879                 0.71                               1               189  \n44383                NaN                               1                73  \n15394               0.43                               1                 0  \n43230               1.88                             327               272  \n16332               0.80                               1                30  \n...                  ...                             ...               ...  \n11284                NaN                               1                 0  \n44732               1.90                               1                76  \n38158               0.34                               5               261  \n860                 0.13                               1                 2  \n15795               0.03                               1                 0  \n\n[48895 rows x 8 columns]",
      "text/html": "<div>\n<style scoped>\n    .dataframe tbody tr th:only-of-type {\n        vertical-align: middle;\n    }\n\n    .dataframe tbody tr th {\n        vertical-align: top;\n    }\n\n    .dataframe thead th {\n        text-align: right;\n    }\n</style>\n<table border=\"1\" class=\"dataframe\">\n  <thead>\n    <tr style=\"text-align: right;\">\n      <th></th>\n      <th>latitude</th>\n      <th>longitude</th>\n      <th>price</th>\n      <th>minimum_nights</th>\n      <th>number_of_reviews</th>\n      <th>reviews_per_month</th>\n      <th>calculated_host_listings_count</th>\n      <th>availability_365</th>\n    </tr>\n  </thead>\n  <tbody>\n    <tr>\n      <th>879</th>\n      <td>40.64354</td>\n      <td>-73.97777</td>\n      <td>89</td>\n      <td>3</td>\n      <td>62</td>\n      <td>0.71</td>\n      <td>1</td>\n      <td>189</td>\n    </tr>\n    <tr>\n      <th>44383</th>\n      <td>40.70666</td>\n      <td>-73.90779</td>\n      <td>30</td>\n      <td>21</td>\n      <td>0</td>\n      <td>NaN</td>\n      <td>1</td>\n      <td>73</td>\n    </tr>\n    <tr>\n      <th>15394</th>\n      <td>40.76116</td>\n      <td>-73.99016</td>\n      <td>120</td>\n      <td>2</td>\n      <td>17</td>\n      <td>0.43</td>\n      <td>1</td>\n      <td>0</td>\n    </tr>\n    <tr>\n      <th>43230</th>\n      <td>40.70763</td>\n      <td>-74.01050</td>\n      <td>470</td>\n      <td>2</td>\n      <td>5</td>\n      <td>1.88</td>\n      <td>327</td>\n      <td>272</td>\n    </tr>\n    <tr>\n      <th>16332</th>\n      <td>40.79658</td>\n      <td>-73.93287</td>\n      <td>199</td>\n      <td>2</td>\n      <td>30</td>\n      <td>0.80</td>\n      <td>1</td>\n      <td>30</td>\n    </tr>\n    <tr>\n      <th>...</th>\n      <td>...</td>\n      <td>...</td>\n      <td>...</td>\n      <td>...</td>\n      <td>...</td>\n      <td>...</td>\n      <td>...</td>\n      <td>...</td>\n    </tr>\n    <tr>\n      <th>11284</th>\n      <td>40.84650</td>\n      <td>-73.94319</td>\n      <td>60</td>\n      <td>1</td>\n      <td>0</td>\n      <td>NaN</td>\n      <td>1</td>\n      <td>0</td>\n    </tr>\n    <tr>\n      <th>44732</th>\n      <td>40.73957</td>\n      <td>-74.00082</td>\n      <td>85</td>\n      <td>2</td>\n      <td>4</td>\n      <td>1.90</td>\n      <td>1</td>\n      <td>76</td>\n    </tr>\n    <tr>\n      <th>38158</th>\n      <td>40.78318</td>\n      <td>-73.97372</td>\n      <td>130</td>\n      <td>30</td>\n      <td>1</td>\n      <td>0.34</td>\n      <td>5</td>\n      <td>261</td>\n    </tr>\n    <tr>\n      <th>860</th>\n      <td>40.77508</td>\n      <td>-73.97990</td>\n      <td>150</td>\n      <td>2</td>\n      <td>11</td>\n      <td>0.13</td>\n      <td>1</td>\n      <td>2</td>\n    </tr>\n    <tr>\n      <th>15795</th>\n      <td>40.74657</td>\n      <td>-73.94555</td>\n      <td>120</td>\n      <td>5</td>\n      <td>1</td>\n      <td>0.03</td>\n      <td>1</td>\n      <td>0</td>\n    </tr>\n  </tbody>\n</table>\n<p>48895 rows × 8 columns</p>\n</div>"
     },
     "execution_count": 30,
     "metadata": {},
     "output_type": "execute_result"
    }
   ],
   "source": [
    "df_shuffled"
   ],
   "metadata": {
    "collapsed": false,
    "pycharm": {
     "name": "#%%\n"
    }
   }
  },
  {
   "cell_type": "code",
   "execution_count": 31,
   "outputs": [],
   "source": [
    "df_train = df_shuffled.iloc[:n_train].copy().reset_index(drop=True)\n",
    "df_val = df_shuffled.iloc[n_train:n_train+n_val].copy().reset_index(drop=True)\n",
    "df_test = df_shuffled.iloc[n_train+n_val:].copy().reset_index(drop=True)"
   ],
   "metadata": {
    "collapsed": false,
    "pycharm": {
     "name": "#%%\n"
    }
   }
  },
  {
   "cell_type": "code",
   "execution_count": 40,
   "outputs": [
    {
     "data": {
      "text/plain": "(29337, 9779, 9779)"
     },
     "execution_count": 40,
     "metadata": {},
     "output_type": "execute_result"
    }
   ],
   "source": [
    "len(df_train), len(df_val), len(df_test)"
   ],
   "metadata": {
    "collapsed": false,
    "pycharm": {
     "name": "#%%\n"
    }
   }
  },
  {
   "cell_type": "code",
   "execution_count": 41,
   "outputs": [
    {
     "data": {
      "text/plain": "       latitude  longitude  price  minimum_nights  number_of_reviews  \\\n0      40.64354  -73.97777     89               3                 62   \n1      40.70666  -73.90779     30              21                  0   \n2      40.76116  -73.99016    120               2                 17   \n3      40.70763  -74.01050    470               2                  5   \n4      40.79658  -73.93287    199               2                 30   \n...         ...        ...    ...             ...                ...   \n29332  40.71178  -73.95779     95               2                  0   \n29333  40.78638  -73.97004    101              30                 10   \n29334  40.72716  -73.98524    100               3                 75   \n29335  40.79578  -73.94523     68               2                 31   \n29336  40.69671  -73.94896     45               1                  1   \n\n       reviews_per_month  calculated_host_listings_count  availability_365  \n0                   0.71                               1               189  \n1                    NaN                               1                73  \n2                   0.43                               1                 0  \n3                   1.88                             327               272  \n4                   0.80                               1                30  \n...                  ...                             ...               ...  \n29332                NaN                               1                 0  \n29333               0.40                               1                 0  \n29334               3.12                               1                60  \n29335               2.10                               1               265  \n29336               0.05                               1                 0  \n\n[29337 rows x 8 columns]",
      "text/html": "<div>\n<style scoped>\n    .dataframe tbody tr th:only-of-type {\n        vertical-align: middle;\n    }\n\n    .dataframe tbody tr th {\n        vertical-align: top;\n    }\n\n    .dataframe thead th {\n        text-align: right;\n    }\n</style>\n<table border=\"1\" class=\"dataframe\">\n  <thead>\n    <tr style=\"text-align: right;\">\n      <th></th>\n      <th>latitude</th>\n      <th>longitude</th>\n      <th>price</th>\n      <th>minimum_nights</th>\n      <th>number_of_reviews</th>\n      <th>reviews_per_month</th>\n      <th>calculated_host_listings_count</th>\n      <th>availability_365</th>\n    </tr>\n  </thead>\n  <tbody>\n    <tr>\n      <th>0</th>\n      <td>40.64354</td>\n      <td>-73.97777</td>\n      <td>89</td>\n      <td>3</td>\n      <td>62</td>\n      <td>0.71</td>\n      <td>1</td>\n      <td>189</td>\n    </tr>\n    <tr>\n      <th>1</th>\n      <td>40.70666</td>\n      <td>-73.90779</td>\n      <td>30</td>\n      <td>21</td>\n      <td>0</td>\n      <td>NaN</td>\n      <td>1</td>\n      <td>73</td>\n    </tr>\n    <tr>\n      <th>2</th>\n      <td>40.76116</td>\n      <td>-73.99016</td>\n      <td>120</td>\n      <td>2</td>\n      <td>17</td>\n      <td>0.43</td>\n      <td>1</td>\n      <td>0</td>\n    </tr>\n    <tr>\n      <th>3</th>\n      <td>40.70763</td>\n      <td>-74.01050</td>\n      <td>470</td>\n      <td>2</td>\n      <td>5</td>\n      <td>1.88</td>\n      <td>327</td>\n      <td>272</td>\n    </tr>\n    <tr>\n      <th>4</th>\n      <td>40.79658</td>\n      <td>-73.93287</td>\n      <td>199</td>\n      <td>2</td>\n      <td>30</td>\n      <td>0.80</td>\n      <td>1</td>\n      <td>30</td>\n    </tr>\n    <tr>\n      <th>...</th>\n      <td>...</td>\n      <td>...</td>\n      <td>...</td>\n      <td>...</td>\n      <td>...</td>\n      <td>...</td>\n      <td>...</td>\n      <td>...</td>\n    </tr>\n    <tr>\n      <th>29332</th>\n      <td>40.71178</td>\n      <td>-73.95779</td>\n      <td>95</td>\n      <td>2</td>\n      <td>0</td>\n      <td>NaN</td>\n      <td>1</td>\n      <td>0</td>\n    </tr>\n    <tr>\n      <th>29333</th>\n      <td>40.78638</td>\n      <td>-73.97004</td>\n      <td>101</td>\n      <td>30</td>\n      <td>10</td>\n      <td>0.40</td>\n      <td>1</td>\n      <td>0</td>\n    </tr>\n    <tr>\n      <th>29334</th>\n      <td>40.72716</td>\n      <td>-73.98524</td>\n      <td>100</td>\n      <td>3</td>\n      <td>75</td>\n      <td>3.12</td>\n      <td>1</td>\n      <td>60</td>\n    </tr>\n    <tr>\n      <th>29335</th>\n      <td>40.79578</td>\n      <td>-73.94523</td>\n      <td>68</td>\n      <td>2</td>\n      <td>31</td>\n      <td>2.10</td>\n      <td>1</td>\n      <td>265</td>\n    </tr>\n    <tr>\n      <th>29336</th>\n      <td>40.69671</td>\n      <td>-73.94896</td>\n      <td>45</td>\n      <td>1</td>\n      <td>1</td>\n      <td>0.05</td>\n      <td>1</td>\n      <td>0</td>\n    </tr>\n  </tbody>\n</table>\n<p>29337 rows × 8 columns</p>\n</div>"
     },
     "execution_count": 41,
     "metadata": {},
     "output_type": "execute_result"
    }
   ],
   "source": [
    "df_train"
   ],
   "metadata": {
    "collapsed": false,
    "pycharm": {
     "name": "#%%\n"
    }
   }
  },
  {
   "cell_type": "code",
   "execution_count": 42,
   "outputs": [],
   "source": [
    "y_train_orig = df_train.price.values\n",
    "y_val_orig = df_val.price.values\n",
    "y_test_orig = df_test.price.values\n",
    "\n",
    "y_train = np.log1p(y_train_orig)\n",
    "y_val = np.log1p(y_val_orig)\n",
    "y_test = np.log1p(y_test_orig)"
   ],
   "metadata": {
    "collapsed": false,
    "pycharm": {
     "name": "#%%\n"
    }
   }
  },
  {
   "cell_type": "code",
   "execution_count": 43,
   "outputs": [],
   "source": [
    "del df_train['price']\n",
    "del df_val['price']\n",
    "del df_test['price']"
   ],
   "metadata": {
    "collapsed": false,
    "pycharm": {
     "name": "#%%\n"
    }
   }
  },
  {
   "cell_type": "markdown",
   "source": [
    "# Question 3"
   ],
   "metadata": {
    "collapsed": false,
    "pycharm": {
     "name": "#%% md\n"
    }
   }
  },
  {
   "cell_type": "code",
   "execution_count": 47,
   "outputs": [],
   "source": [
    "def train_linear_regression(X, y):\n",
    "    ones = np.ones(X.shape[0])\n",
    "    X = np.column_stack([ones, X])\n",
    "\n",
    "    XTX = X.T.dot(X)\n",
    "    XTX_inv = np.linalg.inv(XTX)\n",
    "    w = XTX_inv.dot(X.T).dot(y)\n",
    "\n",
    "    return w[0], w[1:]"
   ],
   "metadata": {
    "collapsed": false,
    "pycharm": {
     "name": "#%%\n"
    }
   }
  },
  {
   "cell_type": "code",
   "execution_count": 48,
   "outputs": [],
   "source": [
    "check = ['latitude','longitude','minimum_nights','number_of_reviews','reviews_per_month','calculated_host_listings_count','availability_365']\n",
    "\n",
    "def prepare_X(df, fillna_value):\n",
    "    df_num = df[check]\n",
    "    df_num = df_num.fillna(fillna_value)\n",
    "    X = df_num.values\n",
    "    return X"
   ],
   "metadata": {
    "collapsed": false,
    "pycharm": {
     "name": "#%%\n"
    }
   }
  },
  {
   "cell_type": "code",
   "execution_count": 49,
   "outputs": [],
   "source": [
    "def rmse(y, y_pred):\n",
    "    error = y_pred - y\n",
    "    mse = (error ** 2).mean()\n",
    "    return np.sqrt(mse)"
   ],
   "metadata": {
    "collapsed": false,
    "pycharm": {
     "name": "#%%\n"
    }
   }
  },
  {
   "cell_type": "code",
   "execution_count": 50,
   "outputs": [],
   "source": [
    "mean = df_train.reviews_per_month.mean()\n",
    "\n",
    "X_mean_train = prepare_X(df_train, fillna_value=mean)\n",
    "w_0_mean, w_mean = train_linear_regression(X_mean_train, y_train)"
   ],
   "metadata": {
    "collapsed": false,
    "pycharm": {
     "name": "#%%\n"
    }
   }
  },
  {
   "cell_type": "code",
   "execution_count": 51,
   "outputs": [],
   "source": [
    "X_mean_val = prepare_X(df_val, fillna_value=mean)\n",
    "y_mean_pred_val = w_0_mean + X_mean_val.dot(w_mean)"
   ],
   "metadata": {
    "collapsed": false,
    "pycharm": {
     "name": "#%%\n"
    }
   }
  },
  {
   "cell_type": "code",
   "execution_count": 52,
   "outputs": [
    {
     "data": {
      "text/plain": "0.64"
     },
     "execution_count": 52,
     "metadata": {},
     "output_type": "execute_result"
    }
   ],
   "source": [
    "np.round(rmse(y_val, y_mean_pred_val),2)"
   ],
   "metadata": {
    "collapsed": false,
    "pycharm": {
     "name": "#%%\n"
    }
   }
  },
  {
   "cell_type": "code",
   "execution_count": 53,
   "outputs": [],
   "source": [
    "X_null_train = prepare_X(df_train, fillna_value=0)\n",
    "w_0_null, w_null = train_linear_regression(X_null_train, y_train)"
   ],
   "metadata": {
    "collapsed": false,
    "pycharm": {
     "name": "#%%\n"
    }
   }
  },
  {
   "cell_type": "code",
   "execution_count": 54,
   "outputs": [],
   "source": [
    "X_null_val = prepare_X(df_val, fillna_value=0)\n",
    "y_null_pred_val = w_0_null + X_null_val.dot(w_null)"
   ],
   "metadata": {
    "collapsed": false,
    "pycharm": {
     "name": "#%%\n"
    }
   }
  },
  {
   "cell_type": "code",
   "execution_count": 55,
   "outputs": [
    {
     "data": {
      "text/plain": "0.64"
     },
     "execution_count": 55,
     "metadata": {},
     "output_type": "execute_result"
    }
   ],
   "source": [
    "np.round(rmse(y_val, y_null_pred_val),2)"
   ],
   "metadata": {
    "collapsed": false,
    "pycharm": {
     "name": "#%%\n"
    }
   }
  },
  {
   "cell_type": "markdown",
   "source": [
    "# Question 4"
   ],
   "metadata": {
    "collapsed": false,
    "pycharm": {
     "name": "#%% md\n"
    }
   }
  },
  {
   "cell_type": "code",
   "execution_count": 56,
   "outputs": [],
   "source": [
    "def train_linear_regression_reg(X, y, r):\n",
    "    ones = np.ones(X.shape[0])\n",
    "    X = np.column_stack([ones, X])\n",
    "\n",
    "    XTX = X.T.dot(X)\n",
    "    XTX = XTX + r * np.eye(XTX.shape[0])\n",
    "\n",
    "    XTX_inv = np.linalg.inv(XTX)\n",
    "    w = XTX_inv.dot(X.T).dot(y)\n",
    "\n",
    "    return w[0], w[1:]"
   ],
   "metadata": {
    "collapsed": false,
    "pycharm": {
     "name": "#%%\n"
    }
   }
  },
  {
   "cell_type": "code",
   "execution_count": 57,
   "outputs": [
    {
     "name": "stdout",
     "output_type": "stream",
     "text": [
      "0 -419.9126586345957 0.64\n",
      "1e-06 -419.86271586621496 0.64\n",
      "0.0001 -414.97649263761593 0.64\n",
      "0.001 -375.2736527536037 0.64\n",
      "0.01 -191.78384053419813 0.66\n",
      "0.1 -32.562560549962825 0.68\n",
      "1 -3.4992168360568985 0.68\n",
      "5 -0.703362316723972 0.68\n",
      "10 -0.35127675889492427 0.68\n"
     ]
    }
   ],
   "source": [
    "for r in [0, 0.000001, 0.0001, 0.001, 0.01, 0.1, 1, 5, 10]:\n",
    "    w_0, w = train_linear_regression_reg(X_null_train, y_train, r=r)\n",
    "    y_null_reg_val = w_0 + X_null_val.dot(w)\n",
    "    rmse_val = np.round(rmse(y_val, y_null_reg_val),2)\n",
    "    print(r, w_0, rmse_val)"
   ],
   "metadata": {
    "collapsed": false,
    "pycharm": {
     "name": "#%%\n"
    }
   }
  },
  {
   "cell_type": "code",
   "execution_count": 58,
   "outputs": [],
   "source": [
    "r = 0"
   ],
   "metadata": {
    "collapsed": false,
    "pycharm": {
     "name": "#%%\n"
    }
   }
  },
  {
   "cell_type": "markdown",
   "source": [
    "# Question 5"
   ],
   "metadata": {
    "collapsed": false,
    "pycharm": {
     "name": "#%% md\n"
    }
   }
  },
  {
   "cell_type": "code",
   "execution_count": 59,
   "outputs": [
    {
     "name": "stdout",
     "output_type": "stream",
     "text": [
      "0 -427.62844626626054 0.65\n",
      "0 -414.70554910891815 0.65\n",
      "0 -423.25413365944155 0.65\n",
      "0 -421.8933158935208 0.64\n",
      "0 -422.06099098963864 0.64\n",
      "0 -429.17875231733336 0.63\n",
      "0 -427.4918955501335 0.63\n",
      "0 -428.18846990339534 0.65\n",
      "0 -427.69291185977426 0.65\n",
      "0 -426.98268956349085 0.64\n"
     ]
    }
   ],
   "source": [
    "n = len(df)\n",
    "\n",
    "n_val = int(0.2 * n)\n",
    "n_test = int(0.2 * n)\n",
    "n_train = n - (n_val + n_test)\n",
    "\n",
    "rmse_list = []\n",
    "\n",
    "for seed in [0, 1, 2, 3, 4, 5, 6, 7, 8, 9]:\n",
    "\n",
    "    idx = np.arange(n)\n",
    "    np.random.seed(seed)\n",
    "    np.random.shuffle(idx)\n",
    "\n",
    "    df_shuffled = df.iloc[idx]\n",
    "\n",
    "    df_train = df_shuffled.iloc[:n_train].copy()\n",
    "    df_val = df_shuffled.iloc[n_train:n_train+n_val].copy()\n",
    "    df_test = df_shuffled.iloc[n_train+n_val:].copy()\n",
    "\n",
    "    df_train = df_train.reset_index(drop=True)\n",
    "    df_val = df_val.reset_index(drop=True)\n",
    "    df_test = df_test.reset_index(drop=True)\n",
    "\n",
    "    y_train_orig = df_train.price.values\n",
    "    y_val_orig = df_val.price.values\n",
    "    y_test_orig = df_test.price.values\n",
    "\n",
    "    y_train = np.log1p(y_train_orig)\n",
    "    y_val = np.log1p(y_val_orig)\n",
    "    y_test = np.log1p(y_test_orig)\n",
    "\n",
    "    del df_train['price']\n",
    "    del df_val['price']\n",
    "    del df_test['price']\n",
    "\n",
    "    X_null_train = prepare_X(df_train, fillna_value=0)\n",
    "    w_0, w = train_linear_regression(X_null_train, y_train)\n",
    "\n",
    "    X_null_val = prepare_X(df_val, fillna_value=0)\n",
    "    y_null_reg_val = w_0 + X_null_val.dot(w)\n",
    "    rmse_val = np.round(rmse(y_val, y_null_reg_val),2)\n",
    "\n",
    "    rmse_list.append(rmse_val)\n",
    "\n",
    "    print(r, w_0, rmse_val)"
   ],
   "metadata": {
    "collapsed": false,
    "pycharm": {
     "name": "#%%\n"
    }
   }
  },
  {
   "cell_type": "code",
   "execution_count": 60,
   "outputs": [
    {
     "data": {
      "text/plain": "[0.65, 0.65, 0.65, 0.64, 0.64, 0.63, 0.63, 0.65, 0.65, 0.64]"
     },
     "execution_count": 60,
     "metadata": {},
     "output_type": "execute_result"
    }
   ],
   "source": [
    "rmse_list"
   ],
   "metadata": {
    "collapsed": false,
    "pycharm": {
     "name": "#%%\n"
    }
   }
  },
  {
   "cell_type": "code",
   "execution_count": 61,
   "outputs": [
    {
     "data": {
      "text/plain": "0.008"
     },
     "execution_count": 61,
     "metadata": {},
     "output_type": "execute_result"
    }
   ],
   "source": [
    "np.round(np.std(rmse_list),3)"
   ],
   "metadata": {
    "collapsed": false,
    "pycharm": {
     "name": "#%%\n"
    }
   }
  },
  {
   "cell_type": "markdown",
   "source": [
    "# Question 6"
   ],
   "metadata": {
    "collapsed": false,
    "pycharm": {
     "name": "#%% md\n"
    }
   }
  },
  {
   "cell_type": "code",
   "execution_count": 62,
   "outputs": [
    {
     "data": {
      "text/plain": "0.65"
     },
     "execution_count": 62,
     "metadata": {},
     "output_type": "execute_result"
    }
   ],
   "source": [
    "idx = np.arange(n)\n",
    "np.random.seed(9)\n",
    "np.random.shuffle(idx)\n",
    "\n",
    "df_shuffled = df.iloc[idx]\n",
    "\n",
    "df_train_val = df_shuffled.iloc[:n_train+n_val].copy()\n",
    "#df_val = df_shuffled.iloc[n_train:n_train+n_val].copy()\n",
    "df_test = df_shuffled.iloc[n_train+n_val:].copy()\n",
    "\n",
    "df_train_val = df_train_val.reset_index(drop=True)\n",
    "#df_val = df_val.reset_index(drop=True)\n",
    "df_test = df_test.reset_index(drop=True)\n",
    "\n",
    "y_train_val_orig = df_train_val.price.values\n",
    "#y_val_orig = df_val.price.values\n",
    "y_test_orig = df_test.price.values\n",
    "\n",
    "y_train_val = np.log1p(y_train_val_orig)\n",
    "#y_val = np.log1p(y_val_orig)\n",
    "y_test = np.log1p(y_test_orig)\n",
    "\n",
    "del df_train_val['price']\n",
    "#del df_val['price']\n",
    "del df_test['price']\n",
    "\n",
    "X_null_train_val = prepare_X(df_train_val, fillna_value=0)\n",
    "w_0_train_val, w_train_val = train_linear_regression_reg(X_null_train_val, y_train_val, r=0.001)\n",
    "\n",
    "X_null_test = prepare_X(df_test, fillna_value=0)\n",
    "y_null_pred_test = w_0_train_val + X_null_test.dot(w_train_val)\n",
    "\n",
    "np.round(rmse(y_test, y_null_pred_test),2)"
   ],
   "metadata": {
    "collapsed": false,
    "pycharm": {
     "name": "#%%\n"
    }
   }
  },
  {
   "cell_type": "code",
   "execution_count": null,
   "outputs": [],
   "source": [],
   "metadata": {
    "collapsed": false,
    "pycharm": {
     "name": "#%%\n"
    }
   }
  }
 ],
 "metadata": {
  "kernelspec": {
   "display_name": "Python 3",
   "language": "python",
   "name": "python3"
  },
  "language_info": {
   "codemirror_mode": {
    "name": "ipython",
    "version": 2
   },
   "file_extension": ".py",
   "mimetype": "text/x-python",
   "name": "python",
   "nbconvert_exporter": "python",
   "pygments_lexer": "ipython2",
   "version": "2.7.6"
  }
 },
 "nbformat": 4,
 "nbformat_minor": 0
}