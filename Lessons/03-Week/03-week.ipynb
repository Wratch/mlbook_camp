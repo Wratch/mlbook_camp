{
 "cells": [
  {
   "cell_type": "markdown",
   "source": [
    "# Churn prediction project"
   ],
   "metadata": {
    "collapsed": false,
    "pycharm": {
     "name": "#%% md\n"
    }
   },
   "execution_count": 1
  },
  {
   "cell_type": "code",
   "execution_count": 5,
   "outputs": [],
   "source": [
    "import pandas as pd\n",
    "import numpy as np\n",
    "\n",
    "import matplotlib.pyplot as plt"
   ],
   "metadata": {
    "collapsed": false,
    "pycharm": {
     "name": "#%%\n"
    }
   }
  },
  {
   "cell_type": "code",
   "execution_count": 6,
   "outputs": [],
   "source": [
    "df = pd.read_csv('WA_Fn-UseC_-Telco-Customer-Churn.csv')"
   ],
   "metadata": {
    "collapsed": false,
    "pycharm": {
     "name": "#%%\n"
    }
   }
  },
  {
   "cell_type": "code",
   "execution_count": 7,
   "outputs": [
    {
     "data": {
      "text/plain": "      customerID  gender  SeniorCitizen Partner Dependents  tenure  \\\n0     7590-VHVEG  Female              0     Yes         No       1   \n1     5575-GNVDE    Male              0      No         No      34   \n2     3668-QPYBK    Male              0      No         No       2   \n3     7795-CFOCW    Male              0      No         No      45   \n4     9237-HQITU  Female              0      No         No       2   \n...          ...     ...            ...     ...        ...     ...   \n7038  6840-RESVB    Male              0     Yes        Yes      24   \n7039  2234-XADUH  Female              0     Yes        Yes      72   \n7040  4801-JZAZL  Female              0     Yes        Yes      11   \n7041  8361-LTMKD    Male              1     Yes         No       4   \n7042  3186-AJIEK    Male              0      No         No      66   \n\n     PhoneService     MultipleLines InternetService OnlineSecurity  ...  \\\n0              No  No phone service             DSL             No  ...   \n1             Yes                No             DSL            Yes  ...   \n2             Yes                No             DSL            Yes  ...   \n3              No  No phone service             DSL            Yes  ...   \n4             Yes                No     Fiber optic             No  ...   \n...           ...               ...             ...            ...  ...   \n7038          Yes               Yes             DSL            Yes  ...   \n7039          Yes               Yes     Fiber optic             No  ...   \n7040           No  No phone service             DSL            Yes  ...   \n7041          Yes               Yes     Fiber optic             No  ...   \n7042          Yes                No     Fiber optic            Yes  ...   \n\n     DeviceProtection TechSupport StreamingTV StreamingMovies        Contract  \\\n0                  No          No          No              No  Month-to-month   \n1                 Yes          No          No              No        One year   \n2                  No          No          No              No  Month-to-month   \n3                 Yes         Yes          No              No        One year   \n4                  No          No          No              No  Month-to-month   \n...               ...         ...         ...             ...             ...   \n7038              Yes         Yes         Yes             Yes        One year   \n7039              Yes          No         Yes             Yes        One year   \n7040               No          No          No              No  Month-to-month   \n7041               No          No          No              No  Month-to-month   \n7042              Yes         Yes         Yes             Yes        Two year   \n\n     PaperlessBilling              PaymentMethod MonthlyCharges  TotalCharges  \\\n0                 Yes           Electronic check          29.85         29.85   \n1                  No               Mailed check          56.95        1889.5   \n2                 Yes               Mailed check          53.85        108.15   \n3                  No  Bank transfer (automatic)          42.30       1840.75   \n4                 Yes           Electronic check          70.70        151.65   \n...               ...                        ...            ...           ...   \n7038              Yes               Mailed check          84.80        1990.5   \n7039              Yes    Credit card (automatic)         103.20        7362.9   \n7040              Yes           Electronic check          29.60        346.45   \n7041              Yes               Mailed check          74.40         306.6   \n7042              Yes  Bank transfer (automatic)         105.65        6844.5   \n\n     Churn  \n0       No  \n1       No  \n2      Yes  \n3       No  \n4      Yes  \n...    ...  \n7038    No  \n7039    No  \n7040    No  \n7041   Yes  \n7042    No  \n\n[7043 rows x 21 columns]",
      "text/html": "<div>\n<style scoped>\n    .dataframe tbody tr th:only-of-type {\n        vertical-align: middle;\n    }\n\n    .dataframe tbody tr th {\n        vertical-align: top;\n    }\n\n    .dataframe thead th {\n        text-align: right;\n    }\n</style>\n<table border=\"1\" class=\"dataframe\">\n  <thead>\n    <tr style=\"text-align: right;\">\n      <th></th>\n      <th>customerID</th>\n      <th>gender</th>\n      <th>SeniorCitizen</th>\n      <th>Partner</th>\n      <th>Dependents</th>\n      <th>tenure</th>\n      <th>PhoneService</th>\n      <th>MultipleLines</th>\n      <th>InternetService</th>\n      <th>OnlineSecurity</th>\n      <th>...</th>\n      <th>DeviceProtection</th>\n      <th>TechSupport</th>\n      <th>StreamingTV</th>\n      <th>StreamingMovies</th>\n      <th>Contract</th>\n      <th>PaperlessBilling</th>\n      <th>PaymentMethod</th>\n      <th>MonthlyCharges</th>\n      <th>TotalCharges</th>\n      <th>Churn</th>\n    </tr>\n  </thead>\n  <tbody>\n    <tr>\n      <th>0</th>\n      <td>7590-VHVEG</td>\n      <td>Female</td>\n      <td>0</td>\n      <td>Yes</td>\n      <td>No</td>\n      <td>1</td>\n      <td>No</td>\n      <td>No phone service</td>\n      <td>DSL</td>\n      <td>No</td>\n      <td>...</td>\n      <td>No</td>\n      <td>No</td>\n      <td>No</td>\n      <td>No</td>\n      <td>Month-to-month</td>\n      <td>Yes</td>\n      <td>Electronic check</td>\n      <td>29.85</td>\n      <td>29.85</td>\n      <td>No</td>\n    </tr>\n    <tr>\n      <th>1</th>\n      <td>5575-GNVDE</td>\n      <td>Male</td>\n      <td>0</td>\n      <td>No</td>\n      <td>No</td>\n      <td>34</td>\n      <td>Yes</td>\n      <td>No</td>\n      <td>DSL</td>\n      <td>Yes</td>\n      <td>...</td>\n      <td>Yes</td>\n      <td>No</td>\n      <td>No</td>\n      <td>No</td>\n      <td>One year</td>\n      <td>No</td>\n      <td>Mailed check</td>\n      <td>56.95</td>\n      <td>1889.5</td>\n      <td>No</td>\n    </tr>\n    <tr>\n      <th>2</th>\n      <td>3668-QPYBK</td>\n      <td>Male</td>\n      <td>0</td>\n      <td>No</td>\n      <td>No</td>\n      <td>2</td>\n      <td>Yes</td>\n      <td>No</td>\n      <td>DSL</td>\n      <td>Yes</td>\n      <td>...</td>\n      <td>No</td>\n      <td>No</td>\n      <td>No</td>\n      <td>No</td>\n      <td>Month-to-month</td>\n      <td>Yes</td>\n      <td>Mailed check</td>\n      <td>53.85</td>\n      <td>108.15</td>\n      <td>Yes</td>\n    </tr>\n    <tr>\n      <th>3</th>\n      <td>7795-CFOCW</td>\n      <td>Male</td>\n      <td>0</td>\n      <td>No</td>\n      <td>No</td>\n      <td>45</td>\n      <td>No</td>\n      <td>No phone service</td>\n      <td>DSL</td>\n      <td>Yes</td>\n      <td>...</td>\n      <td>Yes</td>\n      <td>Yes</td>\n      <td>No</td>\n      <td>No</td>\n      <td>One year</td>\n      <td>No</td>\n      <td>Bank transfer (automatic)</td>\n      <td>42.30</td>\n      <td>1840.75</td>\n      <td>No</td>\n    </tr>\n    <tr>\n      <th>4</th>\n      <td>9237-HQITU</td>\n      <td>Female</td>\n      <td>0</td>\n      <td>No</td>\n      <td>No</td>\n      <td>2</td>\n      <td>Yes</td>\n      <td>No</td>\n      <td>Fiber optic</td>\n      <td>No</td>\n      <td>...</td>\n      <td>No</td>\n      <td>No</td>\n      <td>No</td>\n      <td>No</td>\n      <td>Month-to-month</td>\n      <td>Yes</td>\n      <td>Electronic check</td>\n      <td>70.70</td>\n      <td>151.65</td>\n      <td>Yes</td>\n    </tr>\n    <tr>\n      <th>...</th>\n      <td>...</td>\n      <td>...</td>\n      <td>...</td>\n      <td>...</td>\n      <td>...</td>\n      <td>...</td>\n      <td>...</td>\n      <td>...</td>\n      <td>...</td>\n      <td>...</td>\n      <td>...</td>\n      <td>...</td>\n      <td>...</td>\n      <td>...</td>\n      <td>...</td>\n      <td>...</td>\n      <td>...</td>\n      <td>...</td>\n      <td>...</td>\n      <td>...</td>\n      <td>...</td>\n    </tr>\n    <tr>\n      <th>7038</th>\n      <td>6840-RESVB</td>\n      <td>Male</td>\n      <td>0</td>\n      <td>Yes</td>\n      <td>Yes</td>\n      <td>24</td>\n      <td>Yes</td>\n      <td>Yes</td>\n      <td>DSL</td>\n      <td>Yes</td>\n      <td>...</td>\n      <td>Yes</td>\n      <td>Yes</td>\n      <td>Yes</td>\n      <td>Yes</td>\n      <td>One year</td>\n      <td>Yes</td>\n      <td>Mailed check</td>\n      <td>84.80</td>\n      <td>1990.5</td>\n      <td>No</td>\n    </tr>\n    <tr>\n      <th>7039</th>\n      <td>2234-XADUH</td>\n      <td>Female</td>\n      <td>0</td>\n      <td>Yes</td>\n      <td>Yes</td>\n      <td>72</td>\n      <td>Yes</td>\n      <td>Yes</td>\n      <td>Fiber optic</td>\n      <td>No</td>\n      <td>...</td>\n      <td>Yes</td>\n      <td>No</td>\n      <td>Yes</td>\n      <td>Yes</td>\n      <td>One year</td>\n      <td>Yes</td>\n      <td>Credit card (automatic)</td>\n      <td>103.20</td>\n      <td>7362.9</td>\n      <td>No</td>\n    </tr>\n    <tr>\n      <th>7040</th>\n      <td>4801-JZAZL</td>\n      <td>Female</td>\n      <td>0</td>\n      <td>Yes</td>\n      <td>Yes</td>\n      <td>11</td>\n      <td>No</td>\n      <td>No phone service</td>\n      <td>DSL</td>\n      <td>Yes</td>\n      <td>...</td>\n      <td>No</td>\n      <td>No</td>\n      <td>No</td>\n      <td>No</td>\n      <td>Month-to-month</td>\n      <td>Yes</td>\n      <td>Electronic check</td>\n      <td>29.60</td>\n      <td>346.45</td>\n      <td>No</td>\n    </tr>\n    <tr>\n      <th>7041</th>\n      <td>8361-LTMKD</td>\n      <td>Male</td>\n      <td>1</td>\n      <td>Yes</td>\n      <td>No</td>\n      <td>4</td>\n      <td>Yes</td>\n      <td>Yes</td>\n      <td>Fiber optic</td>\n      <td>No</td>\n      <td>...</td>\n      <td>No</td>\n      <td>No</td>\n      <td>No</td>\n      <td>No</td>\n      <td>Month-to-month</td>\n      <td>Yes</td>\n      <td>Mailed check</td>\n      <td>74.40</td>\n      <td>306.6</td>\n      <td>Yes</td>\n    </tr>\n    <tr>\n      <th>7042</th>\n      <td>3186-AJIEK</td>\n      <td>Male</td>\n      <td>0</td>\n      <td>No</td>\n      <td>No</td>\n      <td>66</td>\n      <td>Yes</td>\n      <td>No</td>\n      <td>Fiber optic</td>\n      <td>Yes</td>\n      <td>...</td>\n      <td>Yes</td>\n      <td>Yes</td>\n      <td>Yes</td>\n      <td>Yes</td>\n      <td>Two year</td>\n      <td>Yes</td>\n      <td>Bank transfer (automatic)</td>\n      <td>105.65</td>\n      <td>6844.5</td>\n      <td>No</td>\n    </tr>\n  </tbody>\n</table>\n<p>7043 rows × 21 columns</p>\n</div>"
     },
     "execution_count": 7,
     "metadata": {},
     "output_type": "execute_result"
    }
   ],
   "source": [
    "df"
   ],
   "metadata": {
    "collapsed": false,
    "pycharm": {
     "name": "#%%\n"
    }
   }
  },
  {
   "cell_type": "code",
   "execution_count": 8,
   "outputs": [
    {
     "data": {
      "text/plain": "                                 0             1               2  \\\ncustomerID              7590-VHVEG    5575-GNVDE      3668-QPYBK   \ngender                      Female          Male            Male   \nSeniorCitizen                    0             0               0   \nPartner                        Yes            No              No   \nDependents                      No            No              No   \ntenure                           1            34               2   \nPhoneService                    No           Yes             Yes   \nMultipleLines     No phone service            No              No   \nInternetService                DSL           DSL             DSL   \nOnlineSecurity                  No           Yes             Yes   \nOnlineBackup                   Yes            No             Yes   \nDeviceProtection                No           Yes              No   \nTechSupport                     No            No              No   \nStreamingTV                     No            No              No   \nStreamingMovies                 No            No              No   \nContract            Month-to-month      One year  Month-to-month   \nPaperlessBilling               Yes            No             Yes   \nPaymentMethod     Electronic check  Mailed check    Mailed check   \nMonthlyCharges               29.85         56.95           53.85   \nTotalCharges                 29.85        1889.5          108.15   \nChurn                           No            No             Yes   \n\n                                          3                 4  \ncustomerID                       7795-CFOCW        9237-HQITU  \ngender                                 Male            Female  \nSeniorCitizen                             0                 0  \nPartner                                  No                No  \nDependents                               No                No  \ntenure                                   45                 2  \nPhoneService                             No               Yes  \nMultipleLines              No phone service                No  \nInternetService                         DSL       Fiber optic  \nOnlineSecurity                          Yes                No  \nOnlineBackup                             No                No  \nDeviceProtection                        Yes                No  \nTechSupport                             Yes                No  \nStreamingTV                              No                No  \nStreamingMovies                          No                No  \nContract                           One year    Month-to-month  \nPaperlessBilling                         No               Yes  \nPaymentMethod     Bank transfer (automatic)  Electronic check  \nMonthlyCharges                         42.3              70.7  \nTotalCharges                        1840.75            151.65  \nChurn                                    No               Yes  ",
      "text/html": "<div>\n<style scoped>\n    .dataframe tbody tr th:only-of-type {\n        vertical-align: middle;\n    }\n\n    .dataframe tbody tr th {\n        vertical-align: top;\n    }\n\n    .dataframe thead th {\n        text-align: right;\n    }\n</style>\n<table border=\"1\" class=\"dataframe\">\n  <thead>\n    <tr style=\"text-align: right;\">\n      <th></th>\n      <th>0</th>\n      <th>1</th>\n      <th>2</th>\n      <th>3</th>\n      <th>4</th>\n    </tr>\n  </thead>\n  <tbody>\n    <tr>\n      <th>customerID</th>\n      <td>7590-VHVEG</td>\n      <td>5575-GNVDE</td>\n      <td>3668-QPYBK</td>\n      <td>7795-CFOCW</td>\n      <td>9237-HQITU</td>\n    </tr>\n    <tr>\n      <th>gender</th>\n      <td>Female</td>\n      <td>Male</td>\n      <td>Male</td>\n      <td>Male</td>\n      <td>Female</td>\n    </tr>\n    <tr>\n      <th>SeniorCitizen</th>\n      <td>0</td>\n      <td>0</td>\n      <td>0</td>\n      <td>0</td>\n      <td>0</td>\n    </tr>\n    <tr>\n      <th>Partner</th>\n      <td>Yes</td>\n      <td>No</td>\n      <td>No</td>\n      <td>No</td>\n      <td>No</td>\n    </tr>\n    <tr>\n      <th>Dependents</th>\n      <td>No</td>\n      <td>No</td>\n      <td>No</td>\n      <td>No</td>\n      <td>No</td>\n    </tr>\n    <tr>\n      <th>tenure</th>\n      <td>1</td>\n      <td>34</td>\n      <td>2</td>\n      <td>45</td>\n      <td>2</td>\n    </tr>\n    <tr>\n      <th>PhoneService</th>\n      <td>No</td>\n      <td>Yes</td>\n      <td>Yes</td>\n      <td>No</td>\n      <td>Yes</td>\n    </tr>\n    <tr>\n      <th>MultipleLines</th>\n      <td>No phone service</td>\n      <td>No</td>\n      <td>No</td>\n      <td>No phone service</td>\n      <td>No</td>\n    </tr>\n    <tr>\n      <th>InternetService</th>\n      <td>DSL</td>\n      <td>DSL</td>\n      <td>DSL</td>\n      <td>DSL</td>\n      <td>Fiber optic</td>\n    </tr>\n    <tr>\n      <th>OnlineSecurity</th>\n      <td>No</td>\n      <td>Yes</td>\n      <td>Yes</td>\n      <td>Yes</td>\n      <td>No</td>\n    </tr>\n    <tr>\n      <th>OnlineBackup</th>\n      <td>Yes</td>\n      <td>No</td>\n      <td>Yes</td>\n      <td>No</td>\n      <td>No</td>\n    </tr>\n    <tr>\n      <th>DeviceProtection</th>\n      <td>No</td>\n      <td>Yes</td>\n      <td>No</td>\n      <td>Yes</td>\n      <td>No</td>\n    </tr>\n    <tr>\n      <th>TechSupport</th>\n      <td>No</td>\n      <td>No</td>\n      <td>No</td>\n      <td>Yes</td>\n      <td>No</td>\n    </tr>\n    <tr>\n      <th>StreamingTV</th>\n      <td>No</td>\n      <td>No</td>\n      <td>No</td>\n      <td>No</td>\n      <td>No</td>\n    </tr>\n    <tr>\n      <th>StreamingMovies</th>\n      <td>No</td>\n      <td>No</td>\n      <td>No</td>\n      <td>No</td>\n      <td>No</td>\n    </tr>\n    <tr>\n      <th>Contract</th>\n      <td>Month-to-month</td>\n      <td>One year</td>\n      <td>Month-to-month</td>\n      <td>One year</td>\n      <td>Month-to-month</td>\n    </tr>\n    <tr>\n      <th>PaperlessBilling</th>\n      <td>Yes</td>\n      <td>No</td>\n      <td>Yes</td>\n      <td>No</td>\n      <td>Yes</td>\n    </tr>\n    <tr>\n      <th>PaymentMethod</th>\n      <td>Electronic check</td>\n      <td>Mailed check</td>\n      <td>Mailed check</td>\n      <td>Bank transfer (automatic)</td>\n      <td>Electronic check</td>\n    </tr>\n    <tr>\n      <th>MonthlyCharges</th>\n      <td>29.85</td>\n      <td>56.95</td>\n      <td>53.85</td>\n      <td>42.3</td>\n      <td>70.7</td>\n    </tr>\n    <tr>\n      <th>TotalCharges</th>\n      <td>29.85</td>\n      <td>1889.5</td>\n      <td>108.15</td>\n      <td>1840.75</td>\n      <td>151.65</td>\n    </tr>\n    <tr>\n      <th>Churn</th>\n      <td>No</td>\n      <td>No</td>\n      <td>Yes</td>\n      <td>No</td>\n      <td>Yes</td>\n    </tr>\n  </tbody>\n</table>\n</div>"
     },
     "execution_count": 8,
     "metadata": {},
     "output_type": "execute_result"
    }
   ],
   "source": [
    "df.head().T"
   ],
   "metadata": {
    "collapsed": false,
    "pycharm": {
     "name": "#%%\n"
    }
   }
  },
  {
   "cell_type": "code",
   "execution_count": 10,
   "outputs": [],
   "source": [
    "df.columns = df.columns.str.lower().str.replace(' ', '_')\n",
    "categorical_columns = list(df.dtypes[df.dtypes == 'object'].index)\n",
    "\n",
    "for c in categorical_columns:\n",
    "    df[c] = df[c].str.lower().str.replace(' ', '_')"
   ],
   "metadata": {
    "collapsed": false,
    "pycharm": {
     "name": "#%%\n"
    }
   }
  },
  {
   "cell_type": "code",
   "execution_count": 11,
   "outputs": [
    {
     "data": {
      "text/plain": "                                 0             1               2  \\\ncustomerid              7590-vhveg    5575-gnvde      3668-qpybk   \ngender                      female          male            male   \nseniorcitizen                    0             0               0   \npartner                        yes            no              no   \ndependents                      no            no              no   \ntenure                           1            34               2   \nphoneservice                    no           yes             yes   \nmultiplelines     no_phone_service            no              no   \ninternetservice                dsl           dsl             dsl   \nonlinesecurity                  no           yes             yes   \nonlinebackup                   yes            no             yes   \ndeviceprotection                no           yes              no   \ntechsupport                     no            no              no   \nstreamingtv                     no            no              no   \nstreamingmovies                 no            no              no   \ncontract            month-to-month      one_year  month-to-month   \npaperlessbilling               yes            no             yes   \npaymentmethod     electronic_check  mailed_check    mailed_check   \nmonthlycharges               29.85         56.95           53.85   \ntotalcharges                 29.85        1889.5          108.15   \nchurn                           no            no             yes   \n\n                                          3                 4  \ncustomerid                       7795-cfocw        9237-hqitu  \ngender                                 male            female  \nseniorcitizen                             0                 0  \npartner                                  no                no  \ndependents                               no                no  \ntenure                                   45                 2  \nphoneservice                             no               yes  \nmultiplelines              no_phone_service                no  \ninternetservice                         dsl       fiber_optic  \nonlinesecurity                          yes                no  \nonlinebackup                             no                no  \ndeviceprotection                        yes                no  \ntechsupport                             yes                no  \nstreamingtv                              no                no  \nstreamingmovies                          no                no  \ncontract                           one_year    month-to-month  \npaperlessbilling                         no               yes  \npaymentmethod     bank_transfer_(automatic)  electronic_check  \nmonthlycharges                         42.3              70.7  \ntotalcharges                        1840.75            151.65  \nchurn                                    no               yes  ",
      "text/html": "<div>\n<style scoped>\n    .dataframe tbody tr th:only-of-type {\n        vertical-align: middle;\n    }\n\n    .dataframe tbody tr th {\n        vertical-align: top;\n    }\n\n    .dataframe thead th {\n        text-align: right;\n    }\n</style>\n<table border=\"1\" class=\"dataframe\">\n  <thead>\n    <tr style=\"text-align: right;\">\n      <th></th>\n      <th>0</th>\n      <th>1</th>\n      <th>2</th>\n      <th>3</th>\n      <th>4</th>\n    </tr>\n  </thead>\n  <tbody>\n    <tr>\n      <th>customerid</th>\n      <td>7590-vhveg</td>\n      <td>5575-gnvde</td>\n      <td>3668-qpybk</td>\n      <td>7795-cfocw</td>\n      <td>9237-hqitu</td>\n    </tr>\n    <tr>\n      <th>gender</th>\n      <td>female</td>\n      <td>male</td>\n      <td>male</td>\n      <td>male</td>\n      <td>female</td>\n    </tr>\n    <tr>\n      <th>seniorcitizen</th>\n      <td>0</td>\n      <td>0</td>\n      <td>0</td>\n      <td>0</td>\n      <td>0</td>\n    </tr>\n    <tr>\n      <th>partner</th>\n      <td>yes</td>\n      <td>no</td>\n      <td>no</td>\n      <td>no</td>\n      <td>no</td>\n    </tr>\n    <tr>\n      <th>dependents</th>\n      <td>no</td>\n      <td>no</td>\n      <td>no</td>\n      <td>no</td>\n      <td>no</td>\n    </tr>\n    <tr>\n      <th>tenure</th>\n      <td>1</td>\n      <td>34</td>\n      <td>2</td>\n      <td>45</td>\n      <td>2</td>\n    </tr>\n    <tr>\n      <th>phoneservice</th>\n      <td>no</td>\n      <td>yes</td>\n      <td>yes</td>\n      <td>no</td>\n      <td>yes</td>\n    </tr>\n    <tr>\n      <th>multiplelines</th>\n      <td>no_phone_service</td>\n      <td>no</td>\n      <td>no</td>\n      <td>no_phone_service</td>\n      <td>no</td>\n    </tr>\n    <tr>\n      <th>internetservice</th>\n      <td>dsl</td>\n      <td>dsl</td>\n      <td>dsl</td>\n      <td>dsl</td>\n      <td>fiber_optic</td>\n    </tr>\n    <tr>\n      <th>onlinesecurity</th>\n      <td>no</td>\n      <td>yes</td>\n      <td>yes</td>\n      <td>yes</td>\n      <td>no</td>\n    </tr>\n    <tr>\n      <th>onlinebackup</th>\n      <td>yes</td>\n      <td>no</td>\n      <td>yes</td>\n      <td>no</td>\n      <td>no</td>\n    </tr>\n    <tr>\n      <th>deviceprotection</th>\n      <td>no</td>\n      <td>yes</td>\n      <td>no</td>\n      <td>yes</td>\n      <td>no</td>\n    </tr>\n    <tr>\n      <th>techsupport</th>\n      <td>no</td>\n      <td>no</td>\n      <td>no</td>\n      <td>yes</td>\n      <td>no</td>\n    </tr>\n    <tr>\n      <th>streamingtv</th>\n      <td>no</td>\n      <td>no</td>\n      <td>no</td>\n      <td>no</td>\n      <td>no</td>\n    </tr>\n    <tr>\n      <th>streamingmovies</th>\n      <td>no</td>\n      <td>no</td>\n      <td>no</td>\n      <td>no</td>\n      <td>no</td>\n    </tr>\n    <tr>\n      <th>contract</th>\n      <td>month-to-month</td>\n      <td>one_year</td>\n      <td>month-to-month</td>\n      <td>one_year</td>\n      <td>month-to-month</td>\n    </tr>\n    <tr>\n      <th>paperlessbilling</th>\n      <td>yes</td>\n      <td>no</td>\n      <td>yes</td>\n      <td>no</td>\n      <td>yes</td>\n    </tr>\n    <tr>\n      <th>paymentmethod</th>\n      <td>electronic_check</td>\n      <td>mailed_check</td>\n      <td>mailed_check</td>\n      <td>bank_transfer_(automatic)</td>\n      <td>electronic_check</td>\n    </tr>\n    <tr>\n      <th>monthlycharges</th>\n      <td>29.85</td>\n      <td>56.95</td>\n      <td>53.85</td>\n      <td>42.3</td>\n      <td>70.7</td>\n    </tr>\n    <tr>\n      <th>totalcharges</th>\n      <td>29.85</td>\n      <td>1889.5</td>\n      <td>108.15</td>\n      <td>1840.75</td>\n      <td>151.65</td>\n    </tr>\n    <tr>\n      <th>churn</th>\n      <td>no</td>\n      <td>no</td>\n      <td>yes</td>\n      <td>no</td>\n      <td>yes</td>\n    </tr>\n  </tbody>\n</table>\n</div>"
     },
     "execution_count": 11,
     "metadata": {},
     "output_type": "execute_result"
    }
   ],
   "source": [
    "df.head().T"
   ],
   "metadata": {
    "collapsed": false,
    "pycharm": {
     "name": "#%%\n"
    }
   }
  },
  {
   "cell_type": "code",
   "execution_count": 13,
   "outputs": [],
   "source": [
    "df.df.totalcharges = pd.to_numeric(df.totalcharges, errors='coerce')"
   ],
   "metadata": {
    "collapsed": false,
    "pycharm": {
     "name": "#%%\n"
    }
   }
  },
  {
   "cell_type": "code",
   "execution_count": 15,
   "outputs": [],
   "source": [
    "df.totalcharges = df.totalcharges.fillna(0)"
   ],
   "metadata": {
    "collapsed": false,
    "pycharm": {
     "name": "#%%\n"
    }
   }
  },
  {
   "cell_type": "code",
   "execution_count": 19,
   "outputs": [],
   "source": [
    "df.churn = (df.churn == 'yes').astype(int)   # yes or no -> 0 or 1"
   ],
   "metadata": {
    "collapsed": false,
    "pycharm": {
     "name": "#%%\n"
    }
   }
  },
  {
   "cell_type": "markdown",
   "source": [
    "# Setting up the validation framework"
   ],
   "metadata": {
    "collapsed": false,
    "pycharm": {
     "name": "#%% md\n"
    }
   }
  },
  {
   "cell_type": "code",
   "execution_count": 20,
   "outputs": [],
   "source": [
    "from sklearn.model_selection import train_test_split"
   ],
   "metadata": {
    "collapsed": false,
    "pycharm": {
     "name": "#%%\n"
    }
   }
  },
  {
   "cell_type": "code",
   "execution_count": 23,
   "outputs": [],
   "source": [
    "df_full_train, df_test = train_test_split(df, test_size=.2, random_state=1)"
   ],
   "metadata": {
    "collapsed": false,
    "pycharm": {
     "name": "#%%\n"
    }
   }
  },
  {
   "cell_type": "code",
   "execution_count": 25,
   "outputs": [],
   "source": [
    "df_train, df_val = train_test_split(df_full_train, test_size=.25,random_state=1)"
   ],
   "metadata": {
    "collapsed": false,
    "pycharm": {
     "name": "#%%\n"
    }
   }
  },
  {
   "cell_type": "code",
   "execution_count": 27,
   "outputs": [
    {
     "data": {
      "text/plain": "(4225, 1409, 5634, 1409)"
     },
     "execution_count": 27,
     "metadata": {},
     "output_type": "execute_result"
    }
   ],
   "source": [
    "len(df_train), len(df_val), len(df_full_train), len(df_test)"
   ],
   "metadata": {
    "collapsed": false,
    "pycharm": {
     "name": "#%%\n"
    }
   }
  },
  {
   "cell_type": "code",
   "execution_count": 28,
   "outputs": [],
   "source": [
    "df_train = df_train.reset_index(drop=True)\n",
    "df_val = df_val.reset_index(drop=True)\n",
    "df_test = df_test.reset_index(drop=True)"
   ],
   "metadata": {
    "collapsed": false,
    "pycharm": {
     "name": "#%%\n"
    }
   }
  },
  {
   "cell_type": "code",
   "execution_count": 29,
   "outputs": [],
   "source": [
    "del df_train['churn']\n",
    "del df_val['churn']\n",
    "del df_test['churn']"
   ],
   "metadata": {
    "collapsed": false,
    "pycharm": {
     "name": "#%%\n"
    }
   }
  },
  {
   "cell_type": "markdown",
   "source": [
    "# EDA"
   ],
   "metadata": {
    "collapsed": false,
    "pycharm": {
     "name": "#%% md\n"
    }
   }
  },
  {
   "cell_type": "code",
   "execution_count": 30,
   "outputs": [],
   "source": [
    "df_full_train = df_full_train.reset_index(drop=True)"
   ],
   "metadata": {
    "collapsed": false,
    "pycharm": {
     "name": "#%%\n"
    }
   }
  },
  {
   "cell_type": "code",
   "execution_count": 32,
   "outputs": [
    {
     "data": {
      "text/plain": "      customerid  gender  seniorcitizen partner dependents  tenure  \\\n0     5442-pptjy    male              0     yes        yes      12   \n1     6261-rcvns  female              0      no         no      42   \n2     2176-osjuv    male              0     yes         no      71   \n3     6161-erdgd    male              0     yes        yes      71   \n4     2364-ufrom    male              0      no         no      30   \n...          ...     ...            ...     ...        ...     ...   \n5629  0781-lkxbr    male              1      no         no       9   \n5630  3507-gasnp    male              0      no        yes      60   \n5631  8868-wozgu    male              0      no         no      28   \n5632  1251-krreg    male              0      no         no       2   \n5633  5840-nvdcg  female              0     yes        yes      16   \n\n     phoneservice multiplelines internetservice       onlinesecurity  ...  \\\n0             yes            no              no  no_internet_service  ...   \n1             yes            no             dsl                  yes  ...   \n2             yes           yes             dsl                  yes  ...   \n3             yes           yes             dsl                  yes  ...   \n4             yes            no             dsl                  yes  ...   \n...           ...           ...             ...                  ...  ...   \n5629          yes           yes     fiber_optic                   no  ...   \n5630          yes            no              no  no_internet_service  ...   \n5631          yes           yes     fiber_optic                   no  ...   \n5632          yes           yes             dsl                   no  ...   \n5633          yes            no             dsl                  yes  ...   \n\n         deviceprotection          techsupport          streamingtv  \\\n0     no_internet_service  no_internet_service  no_internet_service   \n1                     yes                  yes                   no   \n2                      no                  yes                   no   \n3                     yes                  yes                  yes   \n4                      no                  yes                  yes   \n...                   ...                  ...                  ...   \n5629                  yes                   no                  yes   \n5630  no_internet_service  no_internet_service  no_internet_service   \n5631                  yes                   no                  yes   \n5632                   no                   no                   no   \n5633                   no                  yes                   no   \n\n          streamingmovies        contract paperlessbilling  \\\n0     no_internet_service        two_year               no   \n1                     yes        one_year               no   \n2                      no        two_year               no   \n3                     yes        one_year               no   \n4                      no        one_year               no   \n...                   ...             ...              ...   \n5629                  yes  month-to-month              yes   \n5630  no_internet_service        two_year               no   \n5631                  yes  month-to-month              yes   \n5632                   no  month-to-month              yes   \n5633                  yes        two_year               no   \n\n                  paymentmethod monthlycharges  totalcharges churn  \n0                  mailed_check          19.70        258.35     0  \n1       credit_card_(automatic)          73.90       3160.55     1  \n2     bank_transfer_(automatic)          65.15       4681.75     0  \n3              electronic_check          85.45       6300.85     0  \n4              electronic_check          70.40       2044.75     0  \n...                         ...            ...           ...   ...  \n5629           electronic_check         100.50         918.6     1  \n5630               mailed_check          19.95        1189.9     0  \n5631           electronic_check         105.70        2979.5     1  \n5632               mailed_check          54.40         114.1     1  \n5633  bank_transfer_(automatic)          68.25       1114.85     0  \n\n[5634 rows x 21 columns]",
      "text/html": "<div>\n<style scoped>\n    .dataframe tbody tr th:only-of-type {\n        vertical-align: middle;\n    }\n\n    .dataframe tbody tr th {\n        vertical-align: top;\n    }\n\n    .dataframe thead th {\n        text-align: right;\n    }\n</style>\n<table border=\"1\" class=\"dataframe\">\n  <thead>\n    <tr style=\"text-align: right;\">\n      <th></th>\n      <th>customerid</th>\n      <th>gender</th>\n      <th>seniorcitizen</th>\n      <th>partner</th>\n      <th>dependents</th>\n      <th>tenure</th>\n      <th>phoneservice</th>\n      <th>multiplelines</th>\n      <th>internetservice</th>\n      <th>onlinesecurity</th>\n      <th>...</th>\n      <th>deviceprotection</th>\n      <th>techsupport</th>\n      <th>streamingtv</th>\n      <th>streamingmovies</th>\n      <th>contract</th>\n      <th>paperlessbilling</th>\n      <th>paymentmethod</th>\n      <th>monthlycharges</th>\n      <th>totalcharges</th>\n      <th>churn</th>\n    </tr>\n  </thead>\n  <tbody>\n    <tr>\n      <th>0</th>\n      <td>5442-pptjy</td>\n      <td>male</td>\n      <td>0</td>\n      <td>yes</td>\n      <td>yes</td>\n      <td>12</td>\n      <td>yes</td>\n      <td>no</td>\n      <td>no</td>\n      <td>no_internet_service</td>\n      <td>...</td>\n      <td>no_internet_service</td>\n      <td>no_internet_service</td>\n      <td>no_internet_service</td>\n      <td>no_internet_service</td>\n      <td>two_year</td>\n      <td>no</td>\n      <td>mailed_check</td>\n      <td>19.70</td>\n      <td>258.35</td>\n      <td>0</td>\n    </tr>\n    <tr>\n      <th>1</th>\n      <td>6261-rcvns</td>\n      <td>female</td>\n      <td>0</td>\n      <td>no</td>\n      <td>no</td>\n      <td>42</td>\n      <td>yes</td>\n      <td>no</td>\n      <td>dsl</td>\n      <td>yes</td>\n      <td>...</td>\n      <td>yes</td>\n      <td>yes</td>\n      <td>no</td>\n      <td>yes</td>\n      <td>one_year</td>\n      <td>no</td>\n      <td>credit_card_(automatic)</td>\n      <td>73.90</td>\n      <td>3160.55</td>\n      <td>1</td>\n    </tr>\n    <tr>\n      <th>2</th>\n      <td>2176-osjuv</td>\n      <td>male</td>\n      <td>0</td>\n      <td>yes</td>\n      <td>no</td>\n      <td>71</td>\n      <td>yes</td>\n      <td>yes</td>\n      <td>dsl</td>\n      <td>yes</td>\n      <td>...</td>\n      <td>no</td>\n      <td>yes</td>\n      <td>no</td>\n      <td>no</td>\n      <td>two_year</td>\n      <td>no</td>\n      <td>bank_transfer_(automatic)</td>\n      <td>65.15</td>\n      <td>4681.75</td>\n      <td>0</td>\n    </tr>\n    <tr>\n      <th>3</th>\n      <td>6161-erdgd</td>\n      <td>male</td>\n      <td>0</td>\n      <td>yes</td>\n      <td>yes</td>\n      <td>71</td>\n      <td>yes</td>\n      <td>yes</td>\n      <td>dsl</td>\n      <td>yes</td>\n      <td>...</td>\n      <td>yes</td>\n      <td>yes</td>\n      <td>yes</td>\n      <td>yes</td>\n      <td>one_year</td>\n      <td>no</td>\n      <td>electronic_check</td>\n      <td>85.45</td>\n      <td>6300.85</td>\n      <td>0</td>\n    </tr>\n    <tr>\n      <th>4</th>\n      <td>2364-ufrom</td>\n      <td>male</td>\n      <td>0</td>\n      <td>no</td>\n      <td>no</td>\n      <td>30</td>\n      <td>yes</td>\n      <td>no</td>\n      <td>dsl</td>\n      <td>yes</td>\n      <td>...</td>\n      <td>no</td>\n      <td>yes</td>\n      <td>yes</td>\n      <td>no</td>\n      <td>one_year</td>\n      <td>no</td>\n      <td>electronic_check</td>\n      <td>70.40</td>\n      <td>2044.75</td>\n      <td>0</td>\n    </tr>\n    <tr>\n      <th>...</th>\n      <td>...</td>\n      <td>...</td>\n      <td>...</td>\n      <td>...</td>\n      <td>...</td>\n      <td>...</td>\n      <td>...</td>\n      <td>...</td>\n      <td>...</td>\n      <td>...</td>\n      <td>...</td>\n      <td>...</td>\n      <td>...</td>\n      <td>...</td>\n      <td>...</td>\n      <td>...</td>\n      <td>...</td>\n      <td>...</td>\n      <td>...</td>\n      <td>...</td>\n      <td>...</td>\n    </tr>\n    <tr>\n      <th>5629</th>\n      <td>0781-lkxbr</td>\n      <td>male</td>\n      <td>1</td>\n      <td>no</td>\n      <td>no</td>\n      <td>9</td>\n      <td>yes</td>\n      <td>yes</td>\n      <td>fiber_optic</td>\n      <td>no</td>\n      <td>...</td>\n      <td>yes</td>\n      <td>no</td>\n      <td>yes</td>\n      <td>yes</td>\n      <td>month-to-month</td>\n      <td>yes</td>\n      <td>electronic_check</td>\n      <td>100.50</td>\n      <td>918.6</td>\n      <td>1</td>\n    </tr>\n    <tr>\n      <th>5630</th>\n      <td>3507-gasnp</td>\n      <td>male</td>\n      <td>0</td>\n      <td>no</td>\n      <td>yes</td>\n      <td>60</td>\n      <td>yes</td>\n      <td>no</td>\n      <td>no</td>\n      <td>no_internet_service</td>\n      <td>...</td>\n      <td>no_internet_service</td>\n      <td>no_internet_service</td>\n      <td>no_internet_service</td>\n      <td>no_internet_service</td>\n      <td>two_year</td>\n      <td>no</td>\n      <td>mailed_check</td>\n      <td>19.95</td>\n      <td>1189.9</td>\n      <td>0</td>\n    </tr>\n    <tr>\n      <th>5631</th>\n      <td>8868-wozgu</td>\n      <td>male</td>\n      <td>0</td>\n      <td>no</td>\n      <td>no</td>\n      <td>28</td>\n      <td>yes</td>\n      <td>yes</td>\n      <td>fiber_optic</td>\n      <td>no</td>\n      <td>...</td>\n      <td>yes</td>\n      <td>no</td>\n      <td>yes</td>\n      <td>yes</td>\n      <td>month-to-month</td>\n      <td>yes</td>\n      <td>electronic_check</td>\n      <td>105.70</td>\n      <td>2979.5</td>\n      <td>1</td>\n    </tr>\n    <tr>\n      <th>5632</th>\n      <td>1251-krreg</td>\n      <td>male</td>\n      <td>0</td>\n      <td>no</td>\n      <td>no</td>\n      <td>2</td>\n      <td>yes</td>\n      <td>yes</td>\n      <td>dsl</td>\n      <td>no</td>\n      <td>...</td>\n      <td>no</td>\n      <td>no</td>\n      <td>no</td>\n      <td>no</td>\n      <td>month-to-month</td>\n      <td>yes</td>\n      <td>mailed_check</td>\n      <td>54.40</td>\n      <td>114.1</td>\n      <td>1</td>\n    </tr>\n    <tr>\n      <th>5633</th>\n      <td>5840-nvdcg</td>\n      <td>female</td>\n      <td>0</td>\n      <td>yes</td>\n      <td>yes</td>\n      <td>16</td>\n      <td>yes</td>\n      <td>no</td>\n      <td>dsl</td>\n      <td>yes</td>\n      <td>...</td>\n      <td>no</td>\n      <td>yes</td>\n      <td>no</td>\n      <td>yes</td>\n      <td>two_year</td>\n      <td>no</td>\n      <td>bank_transfer_(automatic)</td>\n      <td>68.25</td>\n      <td>1114.85</td>\n      <td>0</td>\n    </tr>\n  </tbody>\n</table>\n<p>5634 rows × 21 columns</p>\n</div>"
     },
     "execution_count": 32,
     "metadata": {},
     "output_type": "execute_result"
    }
   ],
   "source": [
    "df_full_train"
   ],
   "metadata": {
    "collapsed": false,
    "pycharm": {
     "name": "#%%\n"
    }
   }
  },
  {
   "cell_type": "code",
   "execution_count": 33,
   "outputs": [
    {
     "data": {
      "text/plain": "customerid          0\ngender              0\nseniorcitizen       0\npartner             0\ndependents          0\ntenure              0\nphoneservice        0\nmultiplelines       0\ninternetservice     0\nonlinesecurity      0\nonlinebackup        0\ndeviceprotection    0\ntechsupport         0\nstreamingtv         0\nstreamingmovies     0\ncontract            0\npaperlessbilling    0\npaymentmethod       0\nmonthlycharges      0\ntotalcharges        0\nchurn               0\ndtype: int64"
     },
     "execution_count": 33,
     "metadata": {},
     "output_type": "execute_result"
    }
   ],
   "source": [
    "df_full_train.isnull().sum()"
   ],
   "metadata": {
    "collapsed": false,
    "pycharm": {
     "name": "#%%\n"
    }
   }
  },
  {
   "cell_type": "code",
   "execution_count": 35,
   "outputs": [
    {
     "data": {
      "text/plain": "0    0.730032\n1    0.269968\nName: churn, dtype: float64"
     },
     "execution_count": 35,
     "metadata": {},
     "output_type": "execute_result"
    }
   ],
   "source": [
    "df_full_train.churn.value_counts(normalize=True)"
   ],
   "metadata": {
    "collapsed": false,
    "pycharm": {
     "name": "#%%\n"
    }
   }
  },
  {
   "cell_type": "code",
   "execution_count": 39,
   "outputs": [
    {
     "data": {
      "text/plain": "0.27"
     },
     "execution_count": 39,
     "metadata": {},
     "output_type": "execute_result"
    }
   ],
   "source": [
    "global_churn_rate = df_full_train.churn.mean()\n",
    "round(global_churn_rate, 2)"
   ],
   "metadata": {
    "collapsed": false,
    "pycharm": {
     "name": "#%%\n"
    }
   }
  },
  {
   "cell_type": "code",
   "execution_count": 41,
   "outputs": [],
   "source": [
    "numerical = ['tenure', 'monthlycharges', 'totalcharges']"
   ],
   "metadata": {
    "collapsed": false,
    "pycharm": {
     "name": "#%%\n"
    }
   }
  },
  {
   "cell_type": "code",
   "execution_count": 42,
   "outputs": [
    {
     "data": {
      "text/plain": "Index(['customerid', 'gender', 'seniorcitizen', 'partner', 'dependents',\n       'tenure', 'phoneservice', 'multiplelines', 'internetservice',\n       'onlinesecurity', 'onlinebackup', 'deviceprotection', 'techsupport',\n       'streamingtv', 'streamingmovies', 'contract', 'paperlessbilling',\n       'paymentmethod', 'monthlycharges', 'totalcharges', 'churn'],\n      dtype='object')"
     },
     "execution_count": 42,
     "metadata": {},
     "output_type": "execute_result"
    }
   ],
   "source": [
    "df_full_train.columns"
   ],
   "metadata": {
    "collapsed": false,
    "pycharm": {
     "name": "#%%\n"
    }
   }
  },
  {
   "cell_type": "code",
   "execution_count": 44,
   "outputs": [],
   "source": [
    "categorical = ['gender', 'seniorcitizen', 'partner', 'dependents',\n",
    "       'phoneservice', 'multiplelines', 'internetservice',\n",
    "       'onlinesecurity', 'onlinebackup', 'deviceprotection', 'techsupport',\n",
    "       'streamingtv', 'streamingmovies', 'contract', 'paperlessbilling',\n",
    "       'paymentmethod']"
   ],
   "metadata": {
    "collapsed": false,
    "pycharm": {
     "name": "#%%\n"
    }
   }
  },
  {
   "cell_type": "code",
   "execution_count": 45,
   "outputs": [
    {
     "data": {
      "text/plain": "gender              2\nseniorcitizen       2\npartner             2\ndependents          2\nphoneservice        2\nmultiplelines       3\ninternetservice     3\nonlinesecurity      3\nonlinebackup        3\ndeviceprotection    3\ntechsupport         3\nstreamingtv         3\nstreamingmovies     3\ncontract            3\npaperlessbilling    2\npaymentmethod       4\ndtype: int64"
     },
     "execution_count": 45,
     "metadata": {},
     "output_type": "execute_result"
    }
   ],
   "source": [
    "df_full_train[categorical].nunique()"
   ],
   "metadata": {
    "collapsed": false,
    "pycharm": {
     "name": "#%%\n"
    }
   }
  },
  {
   "cell_type": "markdown",
   "source": [
    "# Feature importance: Churn rate and risk ratio"
   ],
   "metadata": {
    "collapsed": false,
    "pycharm": {
     "name": "#%% md\n"
    }
   }
  },
  {
   "cell_type": "code",
   "execution_count": 46,
   "outputs": [
    {
     "data": {
      "text/plain": "0.27682403433476394"
     },
     "execution_count": 46,
     "metadata": {},
     "output_type": "execute_result"
    }
   ],
   "source": [
    "churn_female = df_full_train[df_full_train.gender == 'female'].churn.mean()\n",
    "churn_female"
   ],
   "metadata": {
    "collapsed": false,
    "pycharm": {
     "name": "#%%\n"
    }
   }
  },
  {
   "cell_type": "code",
   "execution_count": 48,
   "outputs": [
    {
     "data": {
      "text/plain": "0.2632135306553911"
     },
     "execution_count": 48,
     "metadata": {},
     "output_type": "execute_result"
    }
   ],
   "source": [
    "churn_male = df_full_train[df_full_train.gender == 'male'].churn.mean()\n",
    "churn_male"
   ],
   "metadata": {
    "collapsed": false,
    "pycharm": {
     "name": "#%%\n"
    }
   }
  },
  {
   "cell_type": "code",
   "execution_count": 47,
   "outputs": [
    {
     "data": {
      "text/plain": "0.26996805111821087"
     },
     "execution_count": 47,
     "metadata": {},
     "output_type": "execute_result"
    }
   ],
   "source": [
    "global_churn = df_full_train.churn.mean()\n",
    "global_churn"
   ],
   "metadata": {
    "collapsed": false,
    "pycharm": {
     "name": "#%%\n"
    }
   }
  },
  {
   "cell_type": "code",
   "execution_count": 49,
   "outputs": [
    {
     "data": {
      "text/plain": "no     2932\nyes    2702\nName: partner, dtype: int64"
     },
     "execution_count": 49,
     "metadata": {},
     "output_type": "execute_result"
    }
   ],
   "source": [
    "df_full_train.partner.value_counts()"
   ],
   "metadata": {
    "collapsed": false,
    "pycharm": {
     "name": "#%%\n"
    }
   }
  },
  {
   "cell_type": "code",
   "execution_count": 50,
   "outputs": [
    {
     "data": {
      "text/plain": "0.20503330866025166"
     },
     "execution_count": 50,
     "metadata": {},
     "output_type": "execute_result"
    }
   ],
   "source": [
    "churn_partner = df_full_train[df_full_train.partner == 'yes'].churn.mean()\n",
    "churn_partner"
   ],
   "metadata": {
    "collapsed": false,
    "pycharm": {
     "name": "#%%\n"
    }
   }
  },
  {
   "cell_type": "code",
   "execution_count": 51,
   "outputs": [
    {
     "data": {
      "text/plain": "0.3298090040927694"
     },
     "execution_count": 51,
     "metadata": {},
     "output_type": "execute_result"
    }
   ],
   "source": [
    "churn_no_partner = df_full_train[df_full_train.partner == 'no'].churn.mean()\n",
    "churn_no_partner"
   ],
   "metadata": {
    "collapsed": false,
    "pycharm": {
     "name": "#%%\n"
    }
   }
  },
  {
   "cell_type": "code",
   "execution_count": null,
   "outputs": [],
   "source": [],
   "metadata": {
    "collapsed": false,
    "pycharm": {
     "name": "#%%\n"
    }
   }
  }
 ],
 "metadata": {
  "kernelspec": {
   "display_name": "Python 3",
   "language": "python",
   "name": "python3"
  },
  "language_info": {
   "codemirror_mode": {
    "name": "ipython",
    "version": 2
   },
   "file_extension": ".py",
   "mimetype": "text/x-python",
   "name": "python",
   "nbconvert_exporter": "python",
   "pygments_lexer": "ipython2",
   "version": "2.7.6"
  }
 },
 "nbformat": 4,
 "nbformat_minor": 0
}